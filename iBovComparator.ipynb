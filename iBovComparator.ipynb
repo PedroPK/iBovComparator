# Instalar bibliotecas
!pip install yfinance sidrapy plotly pandas

# Imports
import yfinance as yf
import sidrapy
import pandas as pd
import plotly.graph_objects as go

# 1. Buscar dados diários desde 2010
ibov = yf.download('^BVSP', start='2010-01-01')
usdbrl = yf.download('USDBRL=X', start='2010-01-01')
btc = yf.download('BTC-USD', start='2010-01-01')

# 2. Forçar uso da coluna 'Close' corretamente
ibov = ibov['Close'] if 'Close' in ibov.columns else ibov.squeeze()
usdbrl = usdbrl['Close'] if 'Close' in usdbrl.columns else usdbrl.squeeze()
btc = btc['Close'] if 'Close' in btc.columns else btc.squeeze()

# 3. Buscar IPCA mensal via SIDRA
ipca_data = sidrapy.get_table(
    table_code='1737',
    territorial_level='1',
    ibge_territorial_code='1',
    variable='63',
    period='all'
)
ipca_df = pd.DataFrame(ipca_data)

# Remover cabeçalho duplicado
if ipca_df.iloc[0].astype(str).str.contains('Variável').any():
    ipca_df = ipca_df.iloc[1:].copy()

# Detectar coluna de data
data_col = next(col for col in ipca_df.columns if ipca_df[col].astype(str).str.match(r'^\d{6}$').any())
ipca_df['date'] = pd.to_datetime(ipca_df[data_col], format='%Y%m')

# Tratar valores
ipca_df['ipca'] = (
    ipca_df['V']
    .astype(str)
    .str.replace(',', '.', regex=False)
    .replace({'...': None, '': None})
    .astype(float)
)
ipca_df = ipca_df.dropna(subset=['ipca'])

# Calcular fator acumulado da inflação
ipca_df = ipca_df[['date', 'ipca']].sort_values('date')
ipca_df['ipca_var'] = ipca_df['ipca'] / 100
ipca_df['ipca_factor'] = (1 + ipca_df['ipca_var']).cumprod()

# Expandir IPCA mensal para diário
ipca_df = ipca_df.set_index('date').resample('D').ffill()

# 4. Consolidar todos os dados com segurança
df = pd.concat([
    pd.DataFrame(ibov.squeeze()).rename(columns={ibov.squeeze().name: 'Ibovespa'}),
    pd.DataFrame(usdbrl.squeeze()).rename(columns={usdbrl.squeeze().name: 'USD/BRL'}),
    pd.DataFrame(btc.squeeze()).rename(columns={btc.squeeze().name: 'BTC/USD'}),
    ipca_df
], axis=1).dropna(subset=['Ibovespa', 'USD/BRL', 'ipca_factor'])

# 5. Calcular indicadores reais
df['Ibovespa_Real'] = df['Ibovespa'] / df['ipca_factor']
df['Ibovespa_USD'] = df['Ibovespa'] / df['USD/BRL']
df['Ibovespa_BTC'] = df['Ibovespa_USD'] / df['BTC/USD']

# 6. Normalizar as curvas com base em 2010
df_norm = pd.DataFrame(index=df.index)
base_ibov = df['Ibovespa'].iloc[0]

df_norm['Ibovespa'] = df['Ibovespa'] / base_ibov
df_norm['Ibovespa_Real'] = df['Ibovespa_Real'] / df['Ibovespa_Real'].iloc[0]
df_norm['Ibovespa_USD'] = df['Ibovespa_USD'] / df['Ibovespa_USD'].iloc[0]

# Corrigir BTC: normalizar a partir da 1ª data válida e alinhar a escala
if df['Ibovespa_BTC'].notna().any():
    first_btc_idx = df['Ibovespa_BTC'].first_valid_index()
    base_btc_value = df['Ibovespa_BTC'].loc[first_btc_idx]
    base_ibov_nominal = df['Ibovespa'].loc[first_btc_idx]
    df_norm['Ibovespa_BTC'] = (df['Ibovespa_BTC'] / base_btc_value) * (base_ibov_nominal / base_ibov)
else:
    df_norm['Ibovespa_BTC'] = None

# 7. Criar gráfico interativo com Plotly
fig = go.Figure()

fig.add_trace(go.Scatter(x=df_norm.index, y=df_norm['Ibovespa'] * base_ibov,
                         mode='lines', name='Ibovespa Nominal', line=dict(color='blue')))
fig.add_trace(go.Scatter(x=df_norm.index, y=df_norm['Ibovespa_Real'] * base_ibov,
                         mode='lines', name='Corrigido pelo IPCA', line=dict(color='green')))
fig.add_trace(go.Scatter(x=df_norm.index, y=df_norm['Ibovespa_USD'] * base_ibov,
                         mode='lines', name='Em Dólar', line=dict(color='orange')))
fig.add_trace(go.Scatter(x=df_norm.index, y=df_norm['Ibovespa_BTC'] * base_ibov,
                         mode='lines', name='Em Bitcoin (desde 2014)', line=dict(color='purple')))

fig.update_layout(
    title='Ibovespa em diferentes unidades (interativo, diário)',
    xaxis_title='Data',
    yaxis_title='Pontuação aproximada do índice',
    yaxis_tickformat=',.0f',
    hovermode='x unified',
    template='plotly_white',
    legend=dict(orientation="h", yanchor="bottom", y=1.02, xanchor="center", x=0.5)
)

fig.show()
